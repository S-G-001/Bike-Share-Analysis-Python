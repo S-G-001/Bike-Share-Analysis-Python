{
 "cells": [
  {
   "cell_type": "markdown",
   "metadata": {},
   "source": [
    "# Bike Share Case Study"
   ]
  },
  {
   "cell_type": "markdown",
   "metadata": {},
   "source": [
    "- This cap stone project is conducted as a part of the Google Analytics Professional Certificate.\n",
    "- The project follows the following 5 steps to keep the analytics project organised and efficient: <br>\n",
    "  Ask, Prepare, Process, Analyze, Share "
   ]
  },
  {
   "cell_type": "code",
   "execution_count": 1,
   "metadata": {},
   "outputs": [],
   "source": [
    "import pandas as pd\n",
    "import numpy as np\n",
    "import matplotlib.pyplot as plt\n",
    "import seaborn as sns\n",
    "import datetime"
   ]
  },
  {
   "cell_type": "markdown",
   "metadata": {},
   "source": [
    "## 1.) Ask\n",
    " #### <i> Understand the Business Problem </i>"
   ]
  },
  {
   "cell_type": "markdown",
   "metadata": {},
   "source": [
    "- Cyclistic is a bikeshare company, they operate in Chicago and have more than 5,000 bikes across 692 stations. \n",
    "- Cyclistic has two types of customers, casual riders and annual membership riders.\n",
    "- Annual membership riders are more profitable for cyclistic compared to casual riders. Company wants to come up with a marketing strategy to convert casual riders to annual membership riders.\n",
    "- To achieve the above goal we need to analyze how the casual riders and annual membership riders differ from each other so that the marketing team can devise an efficient marketing campaign."
   ]
  },
  {
   "cell_type": "markdown",
   "metadata": {},
   "source": [
    "#### Goal: \n",
    "- Analyze how the Cyclistic subscription type riders differ from customer type (casual) riders.\n",
    "- Discover insights that will help in creating a marketing campaign targeted at customer type riders. "
   ]
  },
  {
   "cell_type": "markdown",
   "metadata": {},
   "source": [
    "## 2.) Prepare"
   ]
  },
  {
   "cell_type": "markdown",
   "metadata": {},
   "source": [
    "#### <i> Locate the data, identify the metrics that need to be calculated, create measures to protect the data </i>"
   ]
  },
  {
   "cell_type": "markdown",
   "metadata": {},
   "source": [
    "### 2.1) Import the Data"
   ]
  },
  {
   "cell_type": "markdown",
   "metadata": {},
   "source": [
    "- Data is available seperately for each quarter.\n",
    "- Data Source: vy-tripdata.s3.amazonaws.com/index.html\n",
    "- Load the data from local device, after downloading from the above link."
   ]
  },
  {
   "cell_type": "code",
   "execution_count": 2,
   "metadata": {},
   "outputs": [],
   "source": [
    "# Import the 2018 trip data fom csv files\n",
    "Q1_2018 = pd.read_csv(\"D:\\AI\\Data_Analytics\\Google_Analytics_Coursera\\Bike_Share_Case_Study\\Bike_Share_Data_2018-2020\\Divvy_Trips_2018_Q1.csv\")\n",
    "Q2_2018 = pd.read_csv(\"D:\\AI\\Data_Analytics\\Google_Analytics_Coursera\\Bike_Share_Case_Study\\Bike_Share_Data_2018-2020\\Divvy_Trips_2018_Q2.csv\")\n",
    "Q3_2018 = pd.read_csv(\"D:\\AI\\Data_Analytics\\Google_Analytics_Coursera\\Bike_Share_Case_Study\\Bike_Share_Data_2018-2020\\Divvy_Trips_2018_Q3.csv\")\n",
    "Q4_2018 = pd.read_csv(\"D:\\AI\\Data_Analytics\\Google_Analytics_Coursera\\Bike_Share_Case_Study\\Bike_Share_Data_2018-2020\\Divvy_Trips_2018_Q4.csv\")"
   ]
  },
  {
   "cell_type": "markdown",
   "metadata": {},
   "source": [
    "### 2.2) Glimpse of the Data set"
   ]
  },
  {
   "cell_type": "code",
   "execution_count": 3,
   "metadata": {
    "scrolled": false
   },
   "outputs": [
    {
     "data": {
      "text/html": [
       "<div>\n",
       "<style scoped>\n",
       "    .dataframe tbody tr th:only-of-type {\n",
       "        vertical-align: middle;\n",
       "    }\n",
       "\n",
       "    .dataframe tbody tr th {\n",
       "        vertical-align: top;\n",
       "    }\n",
       "\n",
       "    .dataframe thead th {\n",
       "        text-align: right;\n",
       "    }\n",
       "</style>\n",
       "<table border=\"1\" class=\"dataframe\">\n",
       "  <thead>\n",
       "    <tr style=\"text-align: right;\">\n",
       "      <th></th>\n",
       "      <th>01 - Rental Details Rental ID</th>\n",
       "      <th>01 - Rental Details Local Start Time</th>\n",
       "      <th>01 - Rental Details Local End Time</th>\n",
       "      <th>01 - Rental Details Bike ID</th>\n",
       "      <th>01 - Rental Details Duration In Seconds Uncapped</th>\n",
       "      <th>03 - Rental Start Station ID</th>\n",
       "      <th>03 - Rental Start Station Name</th>\n",
       "      <th>02 - Rental End Station ID</th>\n",
       "      <th>02 - Rental End Station Name</th>\n",
       "      <th>User Type</th>\n",
       "      <th>Member Gender</th>\n",
       "      <th>05 - Member Details Member Birthday Year</th>\n",
       "    </tr>\n",
       "  </thead>\n",
       "  <tbody>\n",
       "    <tr>\n",
       "      <th>0</th>\n",
       "      <td>17536702</td>\n",
       "      <td>2018-01-01 00:12:00</td>\n",
       "      <td>2018-01-01 00:17:23</td>\n",
       "      <td>3304</td>\n",
       "      <td>323.0</td>\n",
       "      <td>69</td>\n",
       "      <td>Damen Ave &amp; Pierce Ave</td>\n",
       "      <td>159</td>\n",
       "      <td>Claremont Ave &amp; Hirsch St</td>\n",
       "      <td>Subscriber</td>\n",
       "      <td>Male</td>\n",
       "      <td>1988.0</td>\n",
       "    </tr>\n",
       "    <tr>\n",
       "      <th>1</th>\n",
       "      <td>17536703</td>\n",
       "      <td>2018-01-01 00:41:35</td>\n",
       "      <td>2018-01-01 00:47:52</td>\n",
       "      <td>5367</td>\n",
       "      <td>377.0</td>\n",
       "      <td>253</td>\n",
       "      <td>Winthrop Ave &amp; Lawrence Ave</td>\n",
       "      <td>325</td>\n",
       "      <td>Clark St &amp; Winnemac Ave (Temp)</td>\n",
       "      <td>Subscriber</td>\n",
       "      <td>Male</td>\n",
       "      <td>1984.0</td>\n",
       "    </tr>\n",
       "    <tr>\n",
       "      <th>2</th>\n",
       "      <td>17536704</td>\n",
       "      <td>2018-01-01 00:44:46</td>\n",
       "      <td>2018-01-01 01:33:10</td>\n",
       "      <td>4599</td>\n",
       "      <td>2,904.0</td>\n",
       "      <td>98</td>\n",
       "      <td>LaSalle St &amp; Washington St</td>\n",
       "      <td>509</td>\n",
       "      <td>Troy St &amp; North Ave</td>\n",
       "      <td>Subscriber</td>\n",
       "      <td>Male</td>\n",
       "      <td>1989.0</td>\n",
       "    </tr>\n",
       "    <tr>\n",
       "      <th>3</th>\n",
       "      <td>17536705</td>\n",
       "      <td>2018-01-01 00:53:10</td>\n",
       "      <td>2018-01-01 01:05:37</td>\n",
       "      <td>2302</td>\n",
       "      <td>747.0</td>\n",
       "      <td>125</td>\n",
       "      <td>Rush St &amp; Hubbard St</td>\n",
       "      <td>364</td>\n",
       "      <td>Larrabee St &amp; Oak St</td>\n",
       "      <td>Subscriber</td>\n",
       "      <td>Male</td>\n",
       "      <td>1983.0</td>\n",
       "    </tr>\n",
       "    <tr>\n",
       "      <th>4</th>\n",
       "      <td>17536706</td>\n",
       "      <td>2018-01-01 00:53:37</td>\n",
       "      <td>2018-01-01 00:56:40</td>\n",
       "      <td>3696</td>\n",
       "      <td>183.0</td>\n",
       "      <td>129</td>\n",
       "      <td>Blue Island Ave &amp; 18th St</td>\n",
       "      <td>205</td>\n",
       "      <td>Paulina St &amp; 18th St</td>\n",
       "      <td>Subscriber</td>\n",
       "      <td>Male</td>\n",
       "      <td>1989.0</td>\n",
       "    </tr>\n",
       "  </tbody>\n",
       "</table>\n",
       "</div>"
      ],
      "text/plain": [
       "   01 - Rental Details Rental ID 01 - Rental Details Local Start Time  \\\n",
       "0                       17536702                  2018-01-01 00:12:00   \n",
       "1                       17536703                  2018-01-01 00:41:35   \n",
       "2                       17536704                  2018-01-01 00:44:46   \n",
       "3                       17536705                  2018-01-01 00:53:10   \n",
       "4                       17536706                  2018-01-01 00:53:37   \n",
       "\n",
       "  01 - Rental Details Local End Time  01 - Rental Details Bike ID  \\\n",
       "0                2018-01-01 00:17:23                         3304   \n",
       "1                2018-01-01 00:47:52                         5367   \n",
       "2                2018-01-01 01:33:10                         4599   \n",
       "3                2018-01-01 01:05:37                         2302   \n",
       "4                2018-01-01 00:56:40                         3696   \n",
       "\n",
       "  01 - Rental Details Duration In Seconds Uncapped  \\\n",
       "0                                            323.0   \n",
       "1                                            377.0   \n",
       "2                                          2,904.0   \n",
       "3                                            747.0   \n",
       "4                                            183.0   \n",
       "\n",
       "   03 - Rental Start Station ID 03 - Rental Start Station Name  \\\n",
       "0                            69         Damen Ave & Pierce Ave   \n",
       "1                           253    Winthrop Ave & Lawrence Ave   \n",
       "2                            98     LaSalle St & Washington St   \n",
       "3                           125           Rush St & Hubbard St   \n",
       "4                           129      Blue Island Ave & 18th St   \n",
       "\n",
       "   02 - Rental End Station ID    02 - Rental End Station Name   User Type  \\\n",
       "0                         159       Claremont Ave & Hirsch St  Subscriber   \n",
       "1                         325  Clark St & Winnemac Ave (Temp)  Subscriber   \n",
       "2                         509             Troy St & North Ave  Subscriber   \n",
       "3                         364            Larrabee St & Oak St  Subscriber   \n",
       "4                         205            Paulina St & 18th St  Subscriber   \n",
       "\n",
       "  Member Gender  05 - Member Details Member Birthday Year  \n",
       "0          Male                                    1988.0  \n",
       "1          Male                                    1984.0  \n",
       "2          Male                                    1989.0  \n",
       "3          Male                                    1983.0  \n",
       "4          Male                                    1989.0  "
      ]
     },
     "execution_count": 3,
     "metadata": {},
     "output_type": "execute_result"
    }
   ],
   "source": [
    "# view the first five records from first quarter\n",
    "Q1_2018.head(5)"
   ]
  },
  {
   "cell_type": "code",
   "execution_count": 4,
   "metadata": {},
   "outputs": [
    {
     "name": "stdout",
     "output_type": "stream",
     "text": [
      "<class 'pandas.core.frame.DataFrame'>\n",
      "RangeIndex: 387145 entries, 0 to 387144\n",
      "Data columns (total 12 columns):\n",
      " #   Column                                            Non-Null Count   Dtype  \n",
      "---  ------                                            --------------   -----  \n",
      " 0   01 - Rental Details Rental ID                     387145 non-null  int64  \n",
      " 1   01 - Rental Details Local Start Time              387145 non-null  object \n",
      " 2   01 - Rental Details Local End Time                387145 non-null  object \n",
      " 3   01 - Rental Details Bike ID                       387145 non-null  int64  \n",
      " 4   01 - Rental Details Duration In Seconds Uncapped  387145 non-null  object \n",
      " 5   03 - Rental Start Station ID                      387145 non-null  int64  \n",
      " 6   03 - Rental Start Station Name                    387145 non-null  object \n",
      " 7   02 - Rental End Station ID                        387145 non-null  int64  \n",
      " 8   02 - Rental End Station Name                      387145 non-null  object \n",
      " 9   User Type                                         387145 non-null  object \n",
      " 10  Member Gender                                     364652 non-null  object \n",
      " 11  05 - Member Details Member Birthday Year          364823 non-null  float64\n",
      "dtypes: float64(1), int64(4), object(7)\n",
      "memory usage: 35.4+ MB\n",
      "None\n"
     ]
    }
   ],
   "source": [
    "# check data types\n",
    "print(Q1_2018.info())"
   ]
  },
  {
   "cell_type": "markdown",
   "metadata": {},
   "source": [
    "### 2.3) Change column Names"
   ]
  },
  {
   "cell_type": "code",
   "execution_count": 5,
   "metadata": {},
   "outputs": [
    {
     "data": {
      "text/plain": [
       "array([False, False, False, False, False, False, False, False, False,\n",
       "       False, False, False])"
      ]
     },
     "execution_count": 5,
     "metadata": {},
     "output_type": "execute_result"
    }
   ],
   "source": [
    "# check if the column names are matching for different tables\n",
    "Q1_2018.columns == Q2_2018.columns"
   ]
  },
  {
   "cell_type": "code",
   "execution_count": 6,
   "metadata": {},
   "outputs": [],
   "source": [
    "# Create dict to replace column names\n",
    "column_names_dict = dict(zip(Q1_2018.columns,Q2_2018.columns))"
   ]
  },
  {
   "cell_type": "code",
   "execution_count": 7,
   "metadata": {},
   "outputs": [],
   "source": [
    "# Rename the Q1 column names according to the rest of tables\n",
    "Q1_2018.rename(columns = column_names_dict, inplace= True)"
   ]
  },
  {
   "cell_type": "markdown",
   "metadata": {},
   "source": [
    "### 2.4) Concatanate the quarters"
   ]
  },
  {
   "cell_type": "code",
   "execution_count": 8,
   "metadata": {},
   "outputs": [],
   "source": [
    "# concatanate all four quarters to get the whole data of 2018 in one dataframe\n",
    "trips_2018 = pd.concat([Q1_2018, Q2_2018, Q3_2018, Q4_2018], axis = 0, ignore_index = True)"
   ]
  },
  {
   "cell_type": "code",
   "execution_count": 9,
   "metadata": {},
   "outputs": [
    {
     "name": "stdout",
     "output_type": "stream",
     "text": [
      "shape of the trips_2018 dataset:  (3603082, 12)\n"
     ]
    }
   ],
   "source": [
    "print(\"shape of the trips_2018 dataset: \",trips_2018.shape)"
   ]
  },
  {
   "cell_type": "markdown",
   "metadata": {},
   "source": [
    "### 2.5) Factors to Analyze:"
   ]
  },
  {
   "cell_type": "markdown",
   "metadata": {},
   "source": [
    "Some metrics that we can use to differentitate the casual riders from the subscription riders:\n",
    "<i>\n",
    "- Time of the day\n",
    "- Duration of the trips\n",
    "- Stations\n",
    "- Routes\n",
    "- Age of the Customers\n",
    "- Gender of the customers\n",
    "- Bike ID\n",
    "    </i>"
   ]
  },
  {
   "cell_type": "markdown",
   "metadata": {},
   "source": [
    "## 3.) Process"
   ]
  },
  {
   "cell_type": "markdown",
   "metadata": {},
   "source": [
    "### 3.1) Check for Null Values"
   ]
  },
  {
   "cell_type": "code",
   "execution_count": 10,
   "metadata": {},
   "outputs": [
    {
     "data": {
      "text/plain": [
       "trip_id              False\n",
       "start_time           False\n",
       "end_time             False\n",
       "bikeid               False\n",
       "tripduration         False\n",
       "from_station_id      False\n",
       "from_station_name    False\n",
       "to_station_id        False\n",
       "to_station_name      False\n",
       "usertype             False\n",
       "gender                True\n",
       "birthyear             True\n",
       "dtype: bool"
      ]
     },
     "execution_count": 10,
     "metadata": {},
     "output_type": "execute_result"
    }
   ],
   "source": [
    "# Check for null values\n",
    "trips_2018.isnull().any()"
   ]
  },
  {
   "cell_type": "markdown",
   "metadata": {},
   "source": [
    "<b> Observations: </b>\n",
    "- There are null values in 'gender' and 'birthyear' column."
   ]
  },
  {
   "cell_type": "code",
   "execution_count": 11,
   "metadata": {},
   "outputs": [
    {
     "name": "stdout",
     "output_type": "stream",
     "text": [
      "Number of null values in gender column:  562505\n",
      "Number of null values in birthyear column:  555209\n"
     ]
    }
   ],
   "source": [
    "# Count the number of null values\n",
    "print(\"Number of null values in gender column: \",trips_2018['gender'].isnull().sum())\n",
    "print(\"Number of null values in birthyear column: \",trips_2018['birthyear'].isnull().sum())"
   ]
  },
  {
   "cell_type": "markdown",
   "metadata": {},
   "source": [
    "#### Remove the Rows with Null Values"
   ]
  },
  {
   "cell_type": "code",
   "execution_count": 12,
   "metadata": {},
   "outputs": [],
   "source": [
    "# Remove the null values\n",
    "# Since we have sufficient data we can remove the rows entirely\n",
    "# Analyzing the rides with null in birthyear and gender would be easier.\n",
    "trips_2018.dropna(inplace = True)"
   ]
  },
  {
   "cell_type": "code",
   "execution_count": 13,
   "metadata": {},
   "outputs": [
    {
     "name": "stdout",
     "output_type": "stream",
     "text": [
      "shape of the dataset after removing null values:  (3040517, 12)\n"
     ]
    }
   ],
   "source": [
    "print(\"shape of the dataset after removing null values: \",trips_2018.shape)"
   ]
  },
  {
   "cell_type": "markdown",
   "metadata": {},
   "source": [
    "### 3.2) Check for Duplicates"
   ]
  },
  {
   "cell_type": "code",
   "execution_count": 14,
   "metadata": {},
   "outputs": [
    {
     "name": "stdout",
     "output_type": "stream",
     "text": [
      "number of duplicate records:  0\n"
     ]
    }
   ],
   "source": [
    "# Check for duplicate entries\n",
    "print(\"number of duplicate records: \", trips_2018.duplicated().sum())"
   ]
  },
  {
   "cell_type": "markdown",
   "metadata": {},
   "source": [
    "### 3.3) Check for structural errors in Data\n",
    "Categories, minimum and maximum values"
   ]
  },
  {
   "cell_type": "code",
   "execution_count": 15,
   "metadata": {},
   "outputs": [
    {
     "name": "stdout",
     "output_type": "stream",
     "text": [
      "Categories in gender column:  ['Male' 'Female']\n"
     ]
    }
   ],
   "source": [
    "# categories in gender\n",
    "print(\"Categories in gender column: \",trips_2018['gender'].unique())"
   ]
  },
  {
   "cell_type": "code",
   "execution_count": 16,
   "metadata": {},
   "outputs": [
    {
     "name": "stdout",
     "output_type": "stream",
     "text": [
      "Categories in usertype column:  ['Subscriber' 'Customer']\n"
     ]
    }
   ],
   "source": [
    "# categories in usertype\n",
    "print(\"Categories in usertype column: \",trips_2018['usertype'].unique())"
   ]
  },
  {
   "cell_type": "markdown",
   "metadata": {},
   "source": [
    "- Note: Since casual riders are mentioned simply as Customers in the data set we will also follow the same terminology from now on."
   ]
  },
  {
   "cell_type": "code",
   "execution_count": 17,
   "metadata": {},
   "outputs": [
    {
     "name": "stdout",
     "output_type": "stream",
     "text": [
      "Birthyear of youngest rider:  2005\n",
      "Birthyear of oldest rider:  1895\n"
     ]
    }
   ],
   "source": [
    "# minimum and maximum birthyear\n",
    "# change birthyear dtype to int\n",
    "trips_2018['birthyear'] = trips_2018['birthyear'].astype(int)\n",
    "print(\"Birthyear of youngest rider: \",trips_2018['birthyear'].max())\n",
    "print(\"Birthyear of oldest rider: \",trips_2018['birthyear'].min())"
   ]
  },
  {
   "cell_type": "markdown",
   "metadata": {},
   "source": [
    "<b> Observations: </b>\n",
    "- The Minimum birth year is too small, in 2019 a person born in 1895 would be 124 years old.\n",
    "- It doesn't make sense that a 124 year old person is riding bike.\n",
    "- Since there are not too many people who live for more than 100 years, it's more probable that birthyear has been entered wrong. "
   ]
  },
  {
   "cell_type": "markdown",
   "metadata": {},
   "source": [
    "### 3.4) Clean Age"
   ]
  },
  {
   "cell_type": "code",
   "execution_count": 18,
   "metadata": {},
   "outputs": [
    {
     "name": "stdout",
     "output_type": "stream",
     "text": [
      "Number of people who are older than 100 years:  817\n"
     ]
    }
   ],
   "source": [
    "# Count people older than 100 years\n",
    "print(\"Number of people who are older than 100 years: \",trips_2018[trips_2018['birthyear'] < 1919]['birthyear'].count())"
   ]
  },
  {
   "cell_type": "code",
   "execution_count": 19,
   "metadata": {},
   "outputs": [
    {
     "data": {
      "image/png": "[encoded data removed]",
      "text/plain": [
       "<Figure size 432x288 with 1 Axes>"
      ]
     },
     "metadata": {},
     "output_type": "display_data"
    }
   ],
   "source": [
    "# Visualise the distribution of birthyears\n",
    "# Histogram of ages\n",
    "plt.hist(trips_2018['birthyear'])\n",
    "plt.grid(axis='x', linestyle='--', linewidth=0.5)\n",
    "plt.title(\"Age of Riders\")\n",
    "plt.xlabel(\"Age\")\n",
    "plt.show()"
   ]
  },
  {
   "cell_type": "markdown",
   "metadata": {},
   "source": [
    "<b> Observation: </b>\n",
    "- Majority of birthyears are concentrated between 1960 and 2000."
   ]
  },
  {
   "cell_type": "code",
   "execution_count": 20,
   "metadata": {},
   "outputs": [],
   "source": [
    "# Drop the rows where DOB is less than 1919; riders older than 100\n",
    "trips_2018 = trips_2018[trips_2018.birthyear > 1919]"
   ]
  },
  {
   "cell_type": "markdown",
   "metadata": {},
   "source": [
    "### 3.5) Clean the Time columns\n",
    " check dtypes, min-max values, distribution of dates for start_time and end_time"
   ]
  },
  {
   "cell_type": "code",
   "execution_count": 21,
   "metadata": {},
   "outputs": [
    {
     "name": "stdout",
     "output_type": "stream",
     "text": [
      "data types of start_time column:  <class 'str'>\n"
     ]
    }
   ],
   "source": [
    "# Check data types of time columns\n",
    "print(\"data types of start_time column: \",type(trips_2018['start_time'][0]))"
   ]
  },
  {
   "cell_type": "code",
   "execution_count": 22,
   "metadata": {},
   "outputs": [
    {
     "name": "stdout",
     "output_type": "stream",
     "text": [
      "Minimum time in start_time column:  2018-01-01 00:12:00\n",
      "Maximum time in start_time column:  2018-12-31 23:59:18\n"
     ]
    }
   ],
   "source": [
    "# Check minimum date time for start_time column\n",
    "print(\"Minimum time in start_time column: \",pd.to_datetime(trips_2018['start_time']).min())\n",
    "print(\"Maximum time in start_time column: \",pd.to_datetime(trips_2018['start_time']).max())"
   ]
  },
  {
   "cell_type": "code",
   "execution_count": 23,
   "metadata": {},
   "outputs": [
    {
     "name": "stdout",
     "output_type": "stream",
     "text": [
      "Minimum time in end_time column:  2018-01-01 00:17:23\n",
      "Maximum time in end_time column:  2019-01-06 14:40:28\n"
     ]
    }
   ],
   "source": [
    "# Check minimum date time for end_time column\n",
    "print(\"Minimum time in end_time column: \",pd.to_datetime(trips_2018['end_time']).min())\n",
    "print(\"Maximum time in end_time column: \",pd.to_datetime(trips_2018['end_time']).max())"
   ]
  },
  {
   "cell_type": "markdown",
   "metadata": {},
   "source": [
    "<b> Observations: </b>\n",
    "- Maximum end_time is in 2019; probably some rides are ending after midnight on 1st Jan 2019."
   ]
  },
  {
   "cell_type": "code",
   "execution_count": 24,
   "metadata": {},
   "outputs": [],
   "source": [
    "# Convert start_time and end_time columns to datetime data type\n",
    "trips_2018['end_time'] = pd.to_datetime(trips_2018['end_time'])\n",
    "trips_2018['start_time'] = pd.to_datetime(trips_2018['start_time'])"
   ]
  },
  {
   "cell_type": "code",
   "execution_count": 25,
   "metadata": {},
   "outputs": [
    {
     "data": {
      "image/png": "[encoded data removed]",
      "text/plain": [
       "<Figure size 432x288 with 1 Axes>"
      ]
     },
     "metadata": {},
     "output_type": "display_data"
    }
   ],
   "source": [
    "# Plot distribution of start_time dates\n",
    "plt.hist(trips_2018['start_time'], bins=13)\n",
    "plt.title(\"Rides By Month\")\n",
    "plt.xlabel('Months')\n",
    "plt.grid(axis='x', linestyle='--', linewidth=0.5)\n",
    "plt.show()"
   ]
  },
  {
   "cell_type": "markdown",
   "metadata": {},
   "source": [
    "<b> Observation: </b>\n",
    "- Number of rides is higher in the mid months from June to October, and number of rides reaches peak value in August."
   ]
  },
  {
   "cell_type": "markdown",
   "metadata": {},
   "source": [
    "### 3.6) Clean the Tripduration column"
   ]
  },
  {
   "cell_type": "markdown",
   "metadata": {},
   "source": [
    "#### 3.6.1) Min, Max, Dtype of Tripduration"
   ]
  },
  {
   "cell_type": "code",
   "execution_count": 26,
   "metadata": {},
   "outputs": [
    {
     "data": {
      "text/plain": [
       "0      323.0\n",
       "1      377.0\n",
       "2    2,904.0\n",
       "Name: tripduration, dtype: object"
      ]
     },
     "execution_count": 26,
     "metadata": {},
     "output_type": "execute_result"
    }
   ],
   "source": [
    "# Taking a look at tripduration values\n",
    "trips_2018['tripduration'][:3]"
   ]
  },
  {
   "cell_type": "markdown",
   "metadata": {},
   "source": [
    "<b> Observation </b>\n",
    "- Tripduration values are in seconds; the dtype is object and comma seperators also present."
   ]
  },
  {
   "cell_type": "code",
   "execution_count": 27,
   "metadata": {},
   "outputs": [],
   "source": [
    "# Remove the commas from tripduration column\n",
    "trips_2018['tripduration'] = trips_2018['tripduration'].str.replace(',','')"
   ]
  },
  {
   "cell_type": "code",
   "execution_count": 28,
   "metadata": {},
   "outputs": [],
   "source": [
    "# Convert to float data type \n",
    "trips_2018['tripduration'] = trips_2018['tripduration'].astype(float)"
   ]
  },
  {
   "cell_type": "code",
   "execution_count": 29,
   "metadata": {},
   "outputs": [],
   "source": [
    "# change the float display format to enable comma seperator at 1000s\n",
    "pd.options.display.float_format = '{:,}'.format"
   ]
  },
  {
   "cell_type": "code",
   "execution_count": 30,
   "metadata": {},
   "outputs": [
    {
     "name": "stdout",
     "output_type": "stream",
     "text": [
      "Minimum Trip Duration  in Hours:  0.016944444444444446\n",
      "Maximum Trip Duration in Hours:  3766.0\n"
     ]
    }
   ],
   "source": [
    "# Minimum and Maximum trip durations\n",
    "print(\"Minimum Trip Duration  in Hours: \",(trips_2018['tripduration'].min())/(60*60))\n",
    "print(\"Maximum Trip Duration in Hours: \",(trips_2018['tripduration'].max())/(60*60))"
   ]
  },
  {
   "cell_type": "markdown",
   "metadata": {},
   "source": [
    "<b>Observations:</b>\n",
    "- The shortest ride is just one minute and the longest ride is 156 days"
   ]
  },
  {
   "cell_type": "markdown",
   "metadata": {},
   "source": [
    "#### 3.6.2) Check exteme Outliers in Tripduration"
   ]
  },
  {
   "cell_type": "code",
   "execution_count": 31,
   "metadata": {},
   "outputs": [
    {
     "data": {
      "image/png": "[encoded data removed]",
      "text/plain": [
       "<Figure size 576x576 with 1 Axes>"
      ]
     },
     "metadata": {},
     "output_type": "display_data"
    }
   ],
   "source": [
    "# plot the trip duration histogram \n",
    "# Check the distrubution of tripduration\n",
    "plt.figure(figsize=(8,8)) \n",
    "plt.hist(trips_2018['tripduration'], bins = 1000, histtype='step') \n",
    "plt.title('Trip Duration Histogram')\n",
    "plt.xlabel('Trip duration in Seconds')\n",
    "plt.show()"
   ]
  },
  {
   "cell_type": "markdown",
   "metadata": {},
   "source": [
    "<b> Observation </b>\n",
    "- The trip duration values are concentrated on the far left."
   ]
  },
  {
   "cell_type": "code",
   "execution_count": 32,
   "metadata": {},
   "outputs": [
    {
     "data": {
      "image/png": "[encoded data removed]",
      "text/plain": [
       "<Figure size 576x576 with 1 Axes>"
      ]
     },
     "metadata": {},
     "output_type": "display_data"
    }
   ],
   "source": [
    "# Histogram of tripduration when the trip duration is less than three hours\n",
    "plt.figure(figsize=(8,8))\n",
    "plt.hist(trips_2018[trips_2018['tripduration'] < 10800]['tripduration'], bins = 100000, histtype='step')  \n",
    "plt.title('Trip Duration Histogram')\n",
    "plt.xlabel('Trip duration in Seconds')\n",
    "plt.show()"
   ]
  },
  {
   "cell_type": "markdown",
   "metadata": {},
   "source": [
    "<b> Observations: </b>\n",
    "- Majority of the data points have trip duration less than 4000 seconds."
   ]
  },
  {
   "cell_type": "markdown",
   "metadata": {},
   "source": [
    "#### Use percentiles to visualise the extreme outliers"
   ]
  },
  {
   "cell_type": "code",
   "execution_count": 33,
   "metadata": {},
   "outputs": [
    {
     "name": "stdout",
     "output_type": "stream",
     "text": [
      "percentile values:  [2.40000e+02 3.22000e+02 4.03000e+02 4.90000e+02 5.90000e+02 7.12000e+02\n",
      " 8.75000e+02 1.11300e+03 1.52400e+03 1.35576e+07]\n"
     ]
    },
    {
     "data": {
      "image/png": "[encoded data removed]",
      "text/plain": [
       "<Figure size 432x288 with 1 Axes>"
      ]
     },
     "metadata": {},
     "output_type": "display_data"
    }
   ],
   "source": [
    "# Find out the trip duration percentiles\n",
    "# Visualise the percentiles\n",
    "percentile = [10, 20, 30, 40, 50, 60, 70, 80, 90, 100]\n",
    "percentile_values = np.percentile(trips_2018['tripduration'],percentile)\n",
    "print(\"percentile values: \",percentile_values)\n",
    "plt.scatter(percentile, percentile_values)\n",
    "plt.plot(percentile, percentile_values)\n",
    "plt.title('90th to 100th percentile of tripduration')\n",
    "plt.xlabel('percentile')\n",
    "plt.ylabel('tripduration')\n",
    "plt.show()"
   ]
  },
  {
   "cell_type": "code",
   "execution_count": 34,
   "metadata": {},
   "outputs": [
    {
     "name": "stdout",
     "output_type": "stream",
     "text": [
      "percentile values:  [1.52400e+03 1.58600e+03 1.65600e+03 1.73500e+03 1.83200e+03 1.94900e+03\n",
      " 2.10200e+03 2.31300e+03 2.67700e+03 3.85700e+03 1.35576e+07]\n"
     ]
    },
    {
     "data": {
      "image/png": "[encoded data removed]",
      "text/plain": [
       "<Figure size 432x288 with 1 Axes>"
      ]
     },
     "metadata": {},
     "output_type": "display_data"
    }
   ],
   "source": [
    "# Find out the trip duration percentiles\n",
    "# Visualise the percentiles\n",
    "percentile = [90, 91, 92, 93, 94, 95, 96, 97, 98, 99, 100]\n",
    "percentile_values = np.percentile(trips_2018['tripduration'],percentile)\n",
    "print(\"percentile values: \",percentile_values)\n",
    "plt.scatter(percentile, percentile_values)\n",
    "plt.plot(percentile, percentile_values)\n",
    "plt.title('90th to 100th percentile of tripduration')\n",
    "plt.xlabel('percentile')\n",
    "plt.ylabel('tripduration')\n",
    "plt.show()"
   ]
  },
  {
   "cell_type": "code",
   "execution_count": 35,
   "metadata": {},
   "outputs": [
    {
     "name": "stdout",
     "output_type": "stream",
     "text": [
      "percentile values:  [3.8570000e+03 4.1200000e+03 4.4194080e+03 4.7750000e+03 5.1910000e+03\n",
      " 5.7195050e+03 6.4800000e+03 7.4899030e+03 9.0580000e+03 1.4694903e+04\n",
      " 1.3557600e+07]\n"
     ]
    },
    {
     "data": {
      "image/png": "[encoded data removed]",
      "text/plain": [
       "<Figure size 432x288 with 1 Axes>"
      ]
     },
     "metadata": {},
     "output_type": "display_data"
    }
   ],
   "source": [
    "# Find out the trip duration percentiles\n",
    "# Visualise the percentiles\n",
    "percentile = [99.0, 99.1, 99.2, 99.3, 99.4, 99.5, 99.6, 99.7, 99.8, 99.9, 100]\n",
    "percentile_values = np.percentile(trips_2018['tripduration'],percentile)\n",
    "print(\"percentile values: \",percentile_values)\n",
    "plt.scatter(percentile, percentile_values)\n",
    "plt.plot(percentile, percentile_values)\n",
    "plt.title('90th to 100th percentile of tripduration')\n",
    "plt.xlabel('percentile')\n",
    "plt.ylabel('tripduration')\n",
    "plt.show()"
   ]
  },
  {
   "cell_type": "code",
   "execution_count": 36,
   "metadata": {},
   "outputs": [
    {
     "name": "stdout",
     "output_type": "stream",
     "text": [
      "Number of extreme outliers in tripduration:  3040\n"
     ]
    }
   ],
   "source": [
    "# Check the count of extreme outliers (where trip duration is higher than 99.9 percentile)\n",
    "print(\"Number of extreme outliers in tripduration: \",trips_2018[trips_2018['tripduration'] > 14694]['tripduration'].count())"
   ]
  },
  {
   "cell_type": "markdown",
   "metadata": {},
   "source": [
    "<b> Observations: </b>\n",
    "- Extreme outliers are present beyond the 99.9th percentile\n",
    "- There are 3040 extreme outliers\n",
    "- Since these outliers are not erroneous points and can contain meaningfull insights we should analyze them seperately."
   ]
  },
  {
   "cell_type": "markdown",
   "metadata": {},
   "source": [
    "#### 3.6.3) Remove the outliers"
   ]
  },
  {
   "cell_type": "code",
   "execution_count": 37,
   "metadata": {},
   "outputs": [],
   "source": [
    "trips_2018 = trips_2018[trips_2018['tripduration'] < 14694]"
   ]
  },
  {
   "cell_type": "markdown",
   "metadata": {},
   "source": [
    "### 3.7) Clean the start_station and end_station"
   ]
  },
  {
   "cell_type": "markdown",
   "metadata": {},
   "source": [
    "#### 3.7.1)"
   ]
  },
  {
   "cell_type": "code",
   "execution_count": 38,
   "metadata": {},
   "outputs": [
    {
     "name": "stdout",
     "output_type": "stream",
     "text": [
      "Count of unique from_station_name:  620\n",
      "Count of unique from_station_id:  619\n",
      "---------------------------------------------\n",
      "Count of unique to_station_name:  619\n",
      "Count of unique to_station_id:  618\n"
     ]
    }
   ],
   "source": [
    "# Check Counts of Unique stations\n",
    "print(\"Count of unique from_station_name: \",trips_2018['from_station_name'].nunique())\n",
    "print(\"Count of unique from_station_id: \",trips_2018['from_station_id'].nunique())\n",
    "print('---'*15)\n",
    "print(\"Count of unique to_station_name: \",trips_2018['to_station_name'].nunique())\n",
    "print(\"Count of unique to_station_id: \",trips_2018['to_station_id'].nunique())"
   ]
  },
  {
   "cell_type": "markdown",
   "metadata": {},
   "source": [
    "<b> Observations: </b>\n",
    "- There is a discrepancy in the station_id counts and station_name counts\n",
    "- One station name is getting repeated for two different station id"
   ]
  },
  {
   "cell_type": "markdown",
   "metadata": {},
   "source": [
    "#### 3.7.2) Get the repeating station_id"
   ]
  },
  {
   "cell_type": "code",
   "execution_count": 39,
   "metadata": {},
   "outputs": [
    {
     "name": "stdout",
     "output_type": "stream",
     "text": [
      "Repeating station_id:  [243]\n"
     ]
    }
   ],
   "source": [
    "# Group By station_Id and Station_name\n",
    "y = trips_2018.groupby(['to_station_id','to_station_name']).size().index\n",
    "\n",
    "# Get the list of station_id corresponding to each station name\n",
    "x= []\n",
    "for i in range(619):\n",
    "    x.append(y[i][0])\n",
    "\n",
    "# Get the station_id that is repeating \n",
    "uniqueList = []\n",
    "duplicateList = []\n",
    " \n",
    "for i in x:\n",
    "    if i not in uniqueList:\n",
    "        uniqueList.append(i)\n",
    "    elif i not in duplicateList:\n",
    "        duplicateList.append(i)\n",
    " \n",
    "print(\"Repeating station_id: \",duplicateList)"
   ]
  },
  {
   "cell_type": "code",
   "execution_count": 40,
   "metadata": {},
   "outputs": [
    {
     "name": "stdout",
     "output_type": "stream",
     "text": [
      "Station names corresponding to station_id 243:  ['Lincoln Ave & Leavitt St' 'Lincoln Ave & Sunnyside Ave']\n"
     ]
    }
   ],
   "source": [
    "# Check station names for station_id 243\n",
    "print(\"Station names corresponding to station_id 243: \",trips_2018.loc[trips_2018.to_station_id == 243,'to_station_name'].unique())"
   ]
  },
  {
   "cell_type": "code",
   "execution_count": 41,
   "metadata": {},
   "outputs": [],
   "source": [
    "# Change the station ID for one of the station name\n",
    "trips_2018.loc[trips_2018.to_station_name == 'Lincoln Ave & Leavitt St', 'to_station_id'] = 665\n",
    "trips_2018.loc[trips_2018.from_station_name == 'Lincoln Ave & Leavitt St', 'from_station_id'] = 665"
   ]
  },
  {
   "cell_type": "markdown",
   "metadata": {},
   "source": [
    "## 4.) Analyze"
   ]
  },
  {
   "cell_type": "markdown",
   "metadata": {},
   "source": [
    "### 4.1) Difference in Quantity\n",
    "Counts of subscription type rides and customer type rides"
   ]
  },
  {
   "cell_type": "code",
   "execution_count": 42,
   "metadata": {},
   "outputs": [
    {
     "name": "stdout",
     "output_type": "stream",
     "text": [
      "total number of rides in 2018:  3036659\n",
      "total number of rides by subscription type users in 2018:  2913716\n",
      "total number of rides by customer type users in 2018:  122943\n"
     ]
    }
   ],
   "source": [
    "# Total rides\n",
    "print('total number of rides in 2018: ', trips_2018.shape[0])\n",
    "print('total number of rides by subscription type users in 2018: ', trips_2018[trips_2018['usertype'] == 'Subscriber'].shape[0])\n",
    "print('total number of rides by customer type users in 2018: ', trips_2018[trips_2018['usertype'] == 'Customer'].shape[0])"
   ]
  },
  {
   "cell_type": "markdown",
   "metadata": {},
   "source": [
    "<b> Observations: </b> \n",
    "- Approx 96% rides are by Subscription type users \n",
    "- Approx 4% rides are by Customer type users \n",
    "- We don't have the count of users. We don't know the number of subscription type riders are there. We only know the number of rides."
   ]
  },
  {
   "cell_type": "markdown",
   "metadata": {},
   "source": [
    "### 4.2) Analyze Tripduration"
   ]
  },
  {
   "cell_type": "code",
   "execution_count": 43,
   "metadata": {},
   "outputs": [
    {
     "data": {
      "image/png": "[encoded data removed]",
      "text/plain": [
       "<Figure size 432x360 with 1 Axes>"
      ]
     },
     "metadata": {},
     "output_type": "display_data"
    }
   ],
   "source": [
    "# Distribution of trip duration\n",
    "\n",
    "plt.figure(figsize=(6,5))\n",
    "plt.hist(trips_2018['tripduration'], bins = 100000, histtype='step')\n",
    "plt.title('Trip Duration Histogram')\n",
    "plt.xlabel('Trip duration in Seconds')\n",
    "plt.show()"
   ]
  },
  {
   "cell_type": "code",
   "execution_count": 44,
   "metadata": {
    "scrolled": false
   },
   "outputs": [
    {
     "data": {
      "image/png": "[encoded data removed]",
      "text/plain": [
       "<Figure size 360x432 with 1 Axes>"
      ]
     },
     "metadata": {},
     "output_type": "display_data"
    }
   ],
   "source": [
    "# Boxplot of trip duration\n",
    "plt.figure(figsize=(5,6))\n",
    "plt.boxplot(trips_2018['tripduration'])\n",
    "plt.title('trip duration boxplot')\n",
    "plt.show()"
   ]
  },
  {
   "cell_type": "code",
   "execution_count": 45,
   "metadata": {},
   "outputs": [
    {
     "data": {
      "image/png": "[encoded data removed]",
      "text/plain": [
       "<Figure size 576x432 with 1 Axes>"
      ]
     },
     "metadata": {},
     "output_type": "display_data"
    }
   ],
   "source": [
    "# Compare tripduration boxplots of subsriber type rides and customer type rides\n",
    "plt.figure(figsize=(8,6))\n",
    "sns.boxplot(x = trips_2018['usertype'], y = trips_2018['tripduration'])\n",
    "plt.title('trip duration boxplot subscriber vs customer')\n",
    "plt.grid()\n",
    "plt.show()"
   ]
  },
  {
   "cell_type": "code",
   "execution_count": 46,
   "metadata": {},
   "outputs": [
    {
     "name": "stdout",
     "output_type": "stream",
     "text": [
      "statistical overview of tripduration for Subscribers and Customers: \n"
     ]
    },
    {
     "data": {
      "text/html": [
       "<div>\n",
       "<style scoped>\n",
       "    .dataframe tbody tr th:only-of-type {\n",
       "        vertical-align: middle;\n",
       "    }\n",
       "\n",
       "    .dataframe tbody tr th {\n",
       "        vertical-align: top;\n",
       "    }\n",
       "\n",
       "    .dataframe thead th {\n",
       "        text-align: right;\n",
       "    }\n",
       "</style>\n",
       "<table border=\"1\" class=\"dataframe\">\n",
       "  <thead>\n",
       "    <tr style=\"text-align: right;\">\n",
       "      <th></th>\n",
       "      <th>subscriber_type_rides</th>\n",
       "      <th>customer_type_rides</th>\n",
       "    </tr>\n",
       "  </thead>\n",
       "  <tbody>\n",
       "    <tr>\n",
       "      <th>count</th>\n",
       "      <td>2,913,716.0</td>\n",
       "      <td>122,943.0</td>\n",
       "    </tr>\n",
       "    <tr>\n",
       "      <th>mean</th>\n",
       "      <td>733.3</td>\n",
       "      <td>2,206.5</td>\n",
       "    </tr>\n",
       "    <tr>\n",
       "      <th>std</th>\n",
       "      <td>596.5</td>\n",
       "      <td>2,055.9</td>\n",
       "    </tr>\n",
       "    <tr>\n",
       "      <th>min</th>\n",
       "      <td>61.0</td>\n",
       "      <td>61.0</td>\n",
       "    </tr>\n",
       "    <tr>\n",
       "      <th>25%</th>\n",
       "      <td>355.0</td>\n",
       "      <td>863.0</td>\n",
       "    </tr>\n",
       "    <tr>\n",
       "      <th>50%</th>\n",
       "      <td>573.0</td>\n",
       "      <td>1,504.0</td>\n",
       "    </tr>\n",
       "    <tr>\n",
       "      <th>75%</th>\n",
       "      <td>936.0</td>\n",
       "      <td>2,794.0</td>\n",
       "    </tr>\n",
       "    <tr>\n",
       "      <th>max</th>\n",
       "      <td>14,692.0</td>\n",
       "      <td>14,692.0</td>\n",
       "    </tr>\n",
       "  </tbody>\n",
       "</table>\n",
       "</div>"
      ],
      "text/plain": [
       "       subscriber_type_rides  customer_type_rides\n",
       "count            2,913,716.0            122,943.0\n",
       "mean                   733.3              2,206.5\n",
       "std                    596.5              2,055.9\n",
       "min                     61.0                 61.0\n",
       "25%                    355.0                863.0\n",
       "50%                    573.0              1,504.0\n",
       "75%                    936.0              2,794.0\n",
       "max                 14,692.0             14,692.0"
      ]
     },
     "execution_count": 46,
     "metadata": {},
     "output_type": "execute_result"
    }
   ],
   "source": [
    "# Get a statistical overview of tripduration for Subscribers and Customers\n",
    "tripduration_stats = pd.DataFrame\\\n",
    "({\n",
    "'subscriber_type_rides': trips_2018.loc[trips_2018.usertype == 'Subscriber','tripduration'].describe().round(1),\\\n",
    "'customer_type_rides': trips_2018.loc[trips_2018.usertype == 'Customer','tripduration'].describe().round(1)\n",
    "})\n",
    "print(\"statistical overview of tripduration for Subscribers and Customers: \")\n",
    "tripduration_stats"
   ]
  },
  {
   "cell_type": "markdown",
   "metadata": {},
   "source": [
    "### Observations:  \n",
    "- Subscibers type riders generally use the bike for shorter durations while customer type riders use bike for longer duration.\n",
    "- Average trip duration of customer type rides is 2206 seconds which is almost three times that of subscriber type tripduration.\n",
    "- There is decent overlap in the customer trip duration and subscriber trip duration, meaning there are enough number of customers who have same tripduration as subscribers.\n"
   ]
  },
  {
   "cell_type": "markdown",
   "metadata": {},
   "source": [
    "### 4.3) Age of Customers"
   ]
  },
  {
   "cell_type": "code",
   "execution_count": 47,
   "metadata": {},
   "outputs": [
    {
     "data": {
      "text/plain": [
       "<Figure size 504x360 with 0 Axes>"
      ]
     },
     "metadata": {},
     "output_type": "display_data"
    },
    {
     "data": {
      "image/png": "[encoded data removed]",
      "text/plain": [
       "<Figure size 540x360 with 1 Axes>"
      ]
     },
     "metadata": {},
     "output_type": "display_data"
    }
   ],
   "source": [
    "# Create a histogram to understand the distribution of birthyears\n",
    "plt.figure(figsize=(7,5))\n",
    "sns.displot(data = trips_2018, x = 'birthyear', bins =30, height = 5, aspect = 1.5)\n",
    "plt.title('Histogram of Birth years')\n",
    "plt.show()"
   ]
  },
  {
   "cell_type": "code",
   "execution_count": 48,
   "metadata": {},
   "outputs": [
    {
     "name": "stderr",
     "output_type": "stream",
     "text": [
      "C:\\Users\\Sandeep Gurjar\\Anaconda3\\lib\\site-packages\\seaborn\\_decorators.py:43: FutureWarning: Pass the following variable as a keyword arg: x. From version 0.12, the only valid positional argument will be `data`, and passing other arguments without an explicit keyword will result in an error or misinterpretation.\n",
      "  FutureWarning\n"
     ]
    },
    {
     "data": {
      "image/png": "[encoded data removed]",
      "text/plain": [
       "<Figure size 432x360 with 1 Axes>"
      ]
     },
     "metadata": {},
     "output_type": "display_data"
    }
   ],
   "source": [
    "# Create a boxplot to visualise the birthyear quantiles and central tendency\n",
    "plt.figure(figsize=(6,5))\n",
    "sns.boxplot(trips_2018['birthyear'])\n",
    "plt.title('Birthyear Boxplot')\n",
    "plt.grid()\n",
    "plt.show()"
   ]
  },
  {
   "cell_type": "code",
   "execution_count": 49,
   "metadata": {},
   "outputs": [
    {
     "data": {
      "image/png": "[encoded data removed]",
      "text/plain": [
       "<Figure size 576x432 with 1 Axes>"
      ]
     },
     "metadata": {},
     "output_type": "display_data"
    }
   ],
   "source": [
    "# Boxplots for birthyear; Subscriber v/s customer\n",
    "plt.figure(figsize=(8,6))\n",
    "sns.boxplot(x = trips_2018['usertype'], y = trips_2018['birthyear'])\n",
    "plt.title('usertype v/s birthyear')\n",
    "plt.grid()\n",
    "plt.show()"
   ]
  },
  {
   "cell_type": "code",
   "execution_count": 50,
   "metadata": {},
   "outputs": [
    {
     "name": "stdout",
     "output_type": "stream",
     "text": [
      "statistical overview of birthyear for Subscribers and Customers: \n"
     ]
    },
    {
     "data": {
      "text/html": [
       "<div>\n",
       "<style scoped>\n",
       "    .dataframe tbody tr th:only-of-type {\n",
       "        vertical-align: middle;\n",
       "    }\n",
       "\n",
       "    .dataframe tbody tr th {\n",
       "        vertical-align: top;\n",
       "    }\n",
       "\n",
       "    .dataframe thead th {\n",
       "        text-align: right;\n",
       "    }\n",
       "</style>\n",
       "<table border=\"1\" class=\"dataframe\">\n",
       "  <thead>\n",
       "    <tr style=\"text-align: right;\">\n",
       "      <th></th>\n",
       "      <th>subscriber_type_rides</th>\n",
       "      <th>customer_type_rides</th>\n",
       "    </tr>\n",
       "  </thead>\n",
       "  <tbody>\n",
       "    <tr>\n",
       "      <th>count</th>\n",
       "      <td>2,913,716.0</td>\n",
       "      <td>122,943.0</td>\n",
       "    </tr>\n",
       "    <tr>\n",
       "      <th>mean</th>\n",
       "      <td>1,982.6</td>\n",
       "      <td>1,986.4</td>\n",
       "    </tr>\n",
       "    <tr>\n",
       "      <th>std</th>\n",
       "      <td>10.9</td>\n",
       "      <td>9.8</td>\n",
       "    </tr>\n",
       "    <tr>\n",
       "      <th>min</th>\n",
       "      <td>1,921.0</td>\n",
       "      <td>1,921.0</td>\n",
       "    </tr>\n",
       "    <tr>\n",
       "      <th>25%</th>\n",
       "      <td>1,977.0</td>\n",
       "      <td>1,982.0</td>\n",
       "    </tr>\n",
       "    <tr>\n",
       "      <th>50%</th>\n",
       "      <td>1,986.0</td>\n",
       "      <td>1,989.0</td>\n",
       "    </tr>\n",
       "    <tr>\n",
       "      <th>75%</th>\n",
       "      <td>1,991.0</td>\n",
       "      <td>1,993.0</td>\n",
       "    </tr>\n",
       "    <tr>\n",
       "      <th>max</th>\n",
       "      <td>2,005.0</td>\n",
       "      <td>2,002.0</td>\n",
       "    </tr>\n",
       "  </tbody>\n",
       "</table>\n",
       "</div>"
      ],
      "text/plain": [
       "       subscriber_type_rides  customer_type_rides\n",
       "count            2,913,716.0            122,943.0\n",
       "mean                 1,982.6              1,986.4\n",
       "std                     10.9                  9.8\n",
       "min                  1,921.0              1,921.0\n",
       "25%                  1,977.0              1,982.0\n",
       "50%                  1,986.0              1,989.0\n",
       "75%                  1,991.0              1,993.0\n",
       "max                  2,005.0              2,002.0"
      ]
     },
     "execution_count": 50,
     "metadata": {},
     "output_type": "execute_result"
    }
   ],
   "source": [
    "# Get a statistical overview of birthyear for Subscribers and Customers\n",
    "birthyear_stats = pd.DataFrame\\\n",
    "({\n",
    "'subscriber_type_rides': trips_2018.loc[trips_2018.usertype == 'Subscriber','birthyear'].describe().round(1),\\\n",
    "'customer_type_rides': trips_2018.loc[trips_2018.usertype == 'Customer','birthyear'].describe().round(1)\n",
    "})\n",
    "print(\"statistical overview of birthyear for Subscribers and Customers: \")\n",
    "birthyear_stats"
   ]
  },
  {
   "cell_type": "markdown",
   "metadata": {},
   "source": [
    "<b> Observations: </b>\n",
    "- Comparatively the younger users are less subscription types. \n",
    "- However the age is not a defining factor for choice between Subscriber type and Customer type"
   ]
  },
  {
   "cell_type": "markdown",
   "metadata": {},
   "source": [
    "### 4.4) Gender of the users"
   ]
  },
  {
   "cell_type": "code",
   "execution_count": 51,
   "metadata": {},
   "outputs": [
    {
     "name": "stdout",
     "output_type": "stream",
     "text": [
      "total number of rides in 2018:  3036659\n",
      "total number of rides by gender in 2018: \n"
     ]
    },
    {
     "data": {
      "text/plain": [
       "Male      2278944\n",
       "Female     757715\n",
       "Name: gender, dtype: int64"
      ]
     },
     "execution_count": 51,
     "metadata": {},
     "output_type": "execute_result"
    }
   ],
   "source": [
    "# Count the number rides by of Male and Female users\n",
    "print('total number of rides in 2018: ', trips_2018.shape[0])\n",
    "print('total number of rides by gender in 2018: ')\n",
    "A1 = trips_2018['gender'].value_counts()\n",
    "A1"
   ]
  },
  {
   "cell_type": "code",
   "execution_count": 52,
   "metadata": {},
   "outputs": [
    {
     "data": {
      "text/plain": [
       "Male      2204657\n",
       "Female     709059\n",
       "Name: gender, dtype: int64"
      ]
     },
     "execution_count": 52,
     "metadata": {},
     "output_type": "execute_result"
    }
   ],
   "source": [
    "# Count of Subscriber type rides by Male and Female users\n",
    "A = trips_2018[trips_2018['usertype'] == 'Subscriber']['gender'].value_counts()\n",
    "A"
   ]
  },
  {
   "cell_type": "code",
   "execution_count": 53,
   "metadata": {},
   "outputs": [
    {
     "data": {
      "text/plain": [
       "Male      74287\n",
       "Female    48656\n",
       "Name: gender, dtype: int64"
      ]
     },
     "execution_count": 53,
     "metadata": {},
     "output_type": "execute_result"
    }
   ],
   "source": [
    "# Count of Customer type rides by Male and Female users\n",
    "B = trips_2018[trips_2018['usertype'] == 'Customer']['gender'].value_counts()\n",
    "B"
   ]
  },
  {
   "cell_type": "code",
   "execution_count": 54,
   "metadata": {},
   "outputs": [
    {
     "name": "stdout",
     "output_type": "stream",
     "text": [
      "Percentage of rides by Subscriber type females users:  93.6\n",
      "Percentage of rides by Customer type females users:  6.4\n"
     ]
    }
   ],
   "source": [
    "# Percentage of rides\n",
    "print(\"Percentage of rides by Subscriber type females users: \",  round((A[1]/A1[1])*100,1))\n",
    "print(\"Percentage of rides by Customer type females users: \",  round((B[1]/A1[1])*100,1))"
   ]
  },
  {
   "cell_type": "code",
   "execution_count": 55,
   "metadata": {},
   "outputs": [
    {
     "name": "stdout",
     "output_type": "stream",
     "text": [
      "Percentage of rides by Subscriber type male users:  96.7\n",
      "Percentage of rides by Customer type male users:  3.3\n"
     ]
    }
   ],
   "source": [
    "print(\"Percentage of rides by Subscriber type male users: \",  round((A[0]/A1[0])*100,1))\n",
    "print(\"Percentage of rides by Customer type male users: \",  round((B[0]/A1[0])*100,1))"
   ]
  },
  {
   "cell_type": "code",
   "execution_count": 56,
   "metadata": {},
   "outputs": [
    {
     "data": {
      "image/png": "[encoded data removed]",
      "text/plain": [
       "<Figure size 432x288 with 2 Axes>"
      ]
     },
     "metadata": {},
     "output_type": "display_data"
    }
   ],
   "source": [
    "# Create a Data Frame for Heatmap\n",
    "gender_usertype_df = pd.DataFrame({'Male':[2204657, 74287], 'Female':[709059, 48656]}, index = ['Subscriber','Customer'])\n",
    "\n",
    "# Visualise the DF with Heatmap\n",
    "sns.heatmap(gender_usertype_df, annot = True, fmt = 'd', linewidth = 2, linecolor = 'black', cmap = 'Pastel1')\n",
    "plt.show()"
   ]
  },
  {
   "cell_type": "markdown",
   "metadata": {},
   "source": [
    "<b> Observations </b>\n",
    "- Percentage of Subscriber type rides by males is Higher compared to  Females\n",
    "- Customer type females rides have higher percentage compared to customer type male rides, but the total number of Males customer type rides is higher  "
   ]
  },
  {
   "cell_type": "markdown",
   "metadata": {},
   "source": [
    " ### 4.5) Time of the day"
   ]
  },
  {
   "cell_type": "markdown",
   "metadata": {},
   "source": [
    "### start_time"
   ]
  },
  {
   "cell_type": "code",
   "execution_count": 57,
   "metadata": {},
   "outputs": [
    {
     "data": {
      "text/plain": [
       "<Figure size 504x360 with 0 Axes>"
      ]
     },
     "metadata": {},
     "output_type": "display_data"
    },
    {
     "data": {
      "image/png": "[encoded data removed]",
      "text/plain": [
       "<Figure size 540x360 with 1 Axes>"
      ]
     },
     "metadata": {},
     "output_type": "display_data"
    }
   ],
   "source": [
    "# Check the distribution of start_time\n",
    "plt.figure(figsize=(7,5))\n",
    "sns.displot(trips_2018['start_time'].dt.hour, aspect = 1.5, bins =24)\n",
    "plt.title(\"Start_time Histogram\")\n",
    "plt.xlabel(\"trip start hour\")\n",
    "plt.show()"
   ]
  },
  {
   "cell_type": "code",
   "execution_count": 73,
   "metadata": {},
   "outputs": [
    {
     "data": {
      "image/png": "[encoded data removed]",
      "text/plain": [
       "<Figure size 432x288 with 1 Axes>"
      ]
     },
     "metadata": {},
     "output_type": "display_data"
    }
   ],
   "source": [
    "# compare the start_time boxplots of Subsriber and Customer type rides\n",
    "sns.boxplot(x = trips_2018['usertype'], y = trips_2018['start_time'].dt.hour)\n",
    "plt.show()"
   ]
  },
  {
   "cell_type": "code",
   "execution_count": 69,
   "metadata": {},
   "outputs": [
    {
     "name": "stdout",
     "output_type": "stream",
     "text": [
      "Percentile values for start_time when rides are Subscription type: \n",
      "0.25    9.0\n",
      "0.5    15.0\n",
      "0.75   17.0\n",
      "Name: start_time, dtype: float64\n",
      "------------------------------------------------------------\n",
      "Percentile values for start_time when rides are Customer type: \n",
      "0.25   11.0\n",
      "0.5    14.0\n",
      "0.75   17.0\n",
      "Name: start_time, dtype: float64\n"
     ]
    }
   ],
   "source": [
    "# Get the values of quantiles\n",
    "Start_time_Subs = trips_2018[trips_2018['usertype']=='Subscriber']['start_time'].dt.hour.quantile([0.25,0.50,0.75])\n",
    "Start_time_Cust = trips_2018[trips_2018['usertype']=='Customer']['start_time'].dt.hour.quantile([0.25,0.50,0.75])\n",
    "print('Percentile values for start_time when rides are Subscription type: ')\n",
    "print(Start_time_Subs)\n",
    "print('---'*20)\n",
    "print('Percentile values for start_time when rides are Customer type: ')\n",
    "print(Start_time_Cust)"
   ]
  },
  {
   "cell_type": "markdown",
   "metadata": {},
   "source": [
    "<b> Observation: </b>\n",
    "- Subscribers type riders are using bikes comparatively more in the morning compared to the Customer type rides.\n",
    "- 25th percentile for Subscribers is near 9 AM and for Customer type riders it is near 11 AM."
   ]
  },
  {
   "cell_type": "markdown",
   "metadata": {},
   "source": [
    "### endtime"
   ]
  },
  {
   "cell_type": "code",
   "execution_count": 58,
   "metadata": {
    "scrolled": false
   },
   "outputs": [
    {
     "data": {
      "image/png": "[encoded data removed]",
      "text/plain": [
       "<Figure size 720x360 with 1 Axes>"
      ]
     },
     "metadata": {},
     "output_type": "display_data"
    }
   ],
   "source": [
    "# Check the distribution of end_time\n",
    "sns.displot(trips_2018['end_time'].dt.hour, bins =24, aspect = 2)\n",
    "plt.show()"
   ]
  },
  {
   "cell_type": "code",
   "execution_count": 59,
   "metadata": {},
   "outputs": [
    {
     "data": {
      "image/png": "[encoded data removed]",
      "text/plain": [
       "<Figure size 432x288 with 1 Axes>"
      ]
     },
     "metadata": {},
     "output_type": "display_data"
    }
   ],
   "source": [
    "# compare the end_time boxplots of Subsriber and Customer type rides\n",
    "sns.boxplot(x = trips_2018['usertype'], y = trips_2018['end_time'].dt.hour)\n",
    "plt.show()"
   ]
  },
  {
   "cell_type": "code",
   "execution_count": 70,
   "metadata": {},
   "outputs": [
    {
     "name": "stdout",
     "output_type": "stream",
     "text": [
      "Percentile values for end_time when rides are Subscription type: \n",
      "0.25    9.0\n",
      "0.5    15.0\n",
      "0.75   17.0\n",
      "Name: end_time, dtype: float64\n",
      "------------------------------------------------------------\n",
      "Percentile values for end_time when rides are Customer type: \n",
      "0.25   12.0\n",
      "0.5    15.0\n",
      "0.75   18.0\n",
      "Name: end_time, dtype: float64\n"
     ]
    }
   ],
   "source": [
    "# Get the values of quantiles\n",
    "End_time_Subs = trips_2018[trips_2018['usertype']=='Subscriber']['end_time'].dt.hour.quantile([0.25,0.50,0.75])\n",
    "End_time_Cust = trips_2018[trips_2018['usertype']=='Customer']['end_time'].dt.hour.quantile([0.25,0.50,0.75])\n",
    "print('Percentile values for end_time when rides are Subscription type: ')\n",
    "print(End_time_Subs)\n",
    "print('---'*20)\n",
    "print('Percentile values for end_time when rides are Customer type: ')\n",
    "print(End_time_Cust)"
   ]
  },
  {
   "cell_type": "markdown",
   "metadata": {},
   "source": [
    "<b> Observations </b>\n",
    "- There is decent diiference in the end time percentiles for Subscribers type rides and Customer type rides.\n",
    "- Customer type rides are ending later in the day (12PM, 15 PM and 18 PM are percentiles)compared to Subscriber type rides."
   ]
  },
  {
   "cell_type": "markdown",
   "metadata": {},
   "source": [
    "### 4.6) WeekDay Analysis"
   ]
  },
  {
   "cell_type": "code",
   "execution_count": 71,
   "metadata": {},
   "outputs": [],
   "source": [
    "# Create a new column for week day\n",
    "trips_2018['weekday'] = trips_2018['start_time'].dt.weekday"
   ]
  },
  {
   "cell_type": "code",
   "execution_count": 72,
   "metadata": {},
   "outputs": [
    {
     "data": {
      "image/png": "[encoded data removed]",
      "text/plain": [
       "<Figure size 1080x360 with 2 Axes>"
      ]
     },
     "metadata": {},
     "output_type": "display_data"
    }
   ],
   "source": [
    "# Plot histogram for weekdays\n",
    "sns.displot(data = trips_2018, x = 'weekday', bins = 7, col = 'usertype', aspect = 1.5)\n",
    "plt.show()"
   ]
  },
  {
   "cell_type": "markdown",
   "metadata": {},
   "source": [
    "<b> Observations </b>\n",
    "- Frequency of the subscriber type rides starts decreasing when reach weekends while the frquency of customer type rides increases on weekends.  "
   ]
  },
  {
   "cell_type": "markdown",
   "metadata": {},
   "source": [
    "### 4.7) Monthwise Analysis"
   ]
  },
  {
   "cell_type": "code",
   "execution_count": 82,
   "metadata": {},
   "outputs": [],
   "source": [
    "# get the months\n",
    "trips_2018['Ride_Month'] = trips_2018['start_time'].dt.month"
   ]
  },
  {
   "cell_type": "code",
   "execution_count": 83,
   "metadata": {},
   "outputs": [
    {
     "data": {
      "image/png": "[encoded data removed]",
      "text/plain": [
       "<Figure size 1080x360 with 2 Axes>"
      ]
     },
     "metadata": {},
     "output_type": "display_data"
    }
   ],
   "source": [
    "# Plot histogram for months\n",
    "sns.displot(data = trips_2018, x = 'Ride_Month', bins = 12, col = 'usertype', aspect = 1.5)\n",
    "plt.show()"
   ]
  },
  {
   "cell_type": "code",
   "execution_count": 85,
   "metadata": {},
   "outputs": [
    {
     "data": {
      "image/png": "[encoded data removed]",
      "text/plain": [
       "<Figure size 432x288 with 1 Axes>"
      ]
     },
     "metadata": {},
     "output_type": "display_data"
    }
   ],
   "source": [
    "# PLot Boxplot for Month wise analysis\n",
    "sns.boxplot(x = trips_2018['usertype'], y = trips_2018['Ride_Month'])\n",
    "plt.show()"
   ]
  },
  {
   "cell_type": "markdown",
   "metadata": {},
   "source": [
    "<b> Observations: </b>\n",
    "- Highest number of customer type rides are happening in the 6th, 7th, 8th, 9th and 10th Months.\n",
    "- Winter months see lesser number of rides from both types of riders."
   ]
  },
  {
   "cell_type": "markdown",
   "metadata": {},
   "source": [
    "### 4.8) Analyze Locations"
   ]
  },
  {
   "cell_type": "code",
   "execution_count": 73,
   "metadata": {},
   "outputs": [
    {
     "data": {
      "image/png": "[encoded data removed]",
      "text/plain": [
       "<Figure size 360x360 with 1 Axes>"
      ]
     },
     "metadata": {},
     "output_type": "display_data"
    }
   ],
   "source": [
    "# histogram for from_station_id\n",
    "sns.displot(data = trips_2018, x = 'from_station_id', bins = 40)\n",
    "plt.show()"
   ]
  },
  {
   "cell_type": "code",
   "execution_count": 74,
   "metadata": {},
   "outputs": [
    {
     "data": {
      "image/png": "[encoded data removed]",
      "text/plain": [
       "<Figure size 720x360 with 2 Axes>"
      ]
     },
     "metadata": {},
     "output_type": "display_data"
    }
   ],
   "source": [
    "# histogram for from_station_id\n",
    "sns.displot(data = trips_2018, x = 'from_station_id', col = 'usertype', bins = 40)\n",
    "plt.show()"
   ]
  },
  {
   "cell_type": "code",
   "execution_count": 75,
   "metadata": {},
   "outputs": [
    {
     "data": {
      "image/png": "[encoded data removed]",
      "text/plain": [
       "<Figure size 432x288 with 1 Axes>"
      ]
     },
     "metadata": {},
     "output_type": "display_data"
    }
   ],
   "source": [
    "# Boxplot for from_station_id\n",
    "sns.boxplot(x = trips_2018['usertype'], y = trips_2018['from_station_id'])\n",
    "plt.show()"
   ]
  },
  {
   "cell_type": "code",
   "execution_count": 76,
   "metadata": {
    "scrolled": true
   },
   "outputs": [
    {
     "data": {
      "image/png": "[encoded data removed]",
      "text/plain": [
       "<Figure size 432x288 with 1 Axes>"
      ]
     },
     "metadata": {},
     "output_type": "display_data"
    }
   ],
   "source": [
    "# Boxplot for to_station_id\n",
    "sns.boxplot(x = trips_2018['usertype'], y = trips_2018['to_station_id'])\n",
    "plt.show()"
   ]
  },
  {
   "cell_type": "markdown",
   "metadata": {},
   "source": [
    "<b>Observation:</b>\n",
    "- There is an overall lack of customers from station_id 300 to station_id 600. On these stations Cyclistic should focus on both types of customers.\n",
    "-  There is no apparant difference between customers on the basis of station_id."
   ]
  },
  {
   "cell_type": "markdown",
   "metadata": {},
   "source": [
    "## 6.) Analysis Summary"
   ]
  },
  {
   "cell_type": "markdown",
   "metadata": {},
   "source": [
    "<b> Quantity: </b> \n",
    "- Approx 96% rides are by Subscription type users \n",
    "- Approx 4% rides are by Customer type users \n",
    "- We don't have the count of users. We don't know the number of subscription type riders are there. We only know the number of rides.\n",
    "\n",
    "<b> Trip Duration: </b>  \n",
    "- Subscibers type riders generally use the bike for shorter durations while customer type riders use bike for longer duration.\n",
    "- Average trip duration of customer type rides is 2206 seconds which is almost three times that of subscriber type tripduration.\n",
    "- There is decent overlap in the customer trip duration and subscriber trip duration, meaning there are enough number of customers who have same tripduration as subscribers.\n",
    "\n",
    "<b> Age: </b>\n",
    "- Comparatively the younger users are less subscription types. \n",
    "- However the age is not a defining factor for choice between Subscriber type and Customer type\n",
    "\n",
    "<b> Gender: </b>\n",
    "- Percentage of Subscriber type rides by males is Higher compared to  Females\n",
    "- Customer type females rides have higher percentage compared to customer type male rides, but the total number of Males customer type rides is higher  \n",
    "\n",
    "<b> Start Time: </b>\n",
    "- Subscribers type riders are using bikes comparatively more in the morning compared to the Customer type rides.\n",
    "- 25th percentile for Subscribers is near 9 AM and for Customer type riders it is near 11 AM.\n",
    "\n",
    "<b> End Time: </b>\n",
    "- There is decent difference in the end time percentiles for Subscribers type rides and Customer type rides.\n",
    "- Customer type rides are ending later in the day (12PM, 15 PM and 18 PM are percentiles) compared to Subscriber type rides.\n",
    "\n",
    "<b> WeekDay and Month </b>\n",
    "- Frequency of the subscriber type rides starts decreasing on weekends while the frquency of customer type rides increases on weekends.\n",
    "- Majority of the customer type rides are happening in the 6th, 7th, 8th, 9th and 10th Months.\n",
    "- Winter months see lesser number of rides from both types of riders.\n",
    "\n",
    "<b> Station ID:</b>\n",
    "- There is an overall lack of rides on station ranging from station_id 300 to station_id 600. On these stations Cyclistic should focus on both types of customers.\n",
    "-  There is no apparant difference between customers on the basis of station_id."
   ]
  }
 ],
 "metadata": {
  "kernelspec": {
   "display_name": "Python 3",
   "language": "python",
   "name": "python3"
  },
  "language_info": {
   "codemirror_mode": {
    "name": "ipython",
    "version": 3
   },
   "file_extension": ".py",
   "mimetype": "text/x-python",
   "name": "python",
   "nbconvert_exporter": "python",
   "pygments_lexer": "ipython3",
   "version": "3.6.5"
  }
 },
 "nbformat": 4,
 "nbformat_minor": 2
}
